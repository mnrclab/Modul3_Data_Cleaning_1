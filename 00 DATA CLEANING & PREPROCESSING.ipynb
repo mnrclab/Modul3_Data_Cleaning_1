{
 "cells": [
  {
   "cell_type": "markdown",
   "metadata": {},
   "source": [
    "# DATA CLEANING & PREPROCESSING\n",
    "\n",
    "<hr>"
   ]
  },
  {
   "cell_type": "markdown",
   "metadata": {},
   "source": [
    "### 1. Handling Missing Values\n",
    "### 2. Handling Outlier\n",
    "### 3. Handling Categorical Features\n",
    "### 4. Scalling & Standardize \n",
    "### 5. Feature Selection\n",
    "### 6. Splitting Dataset\n",
    "\n",
    "__NLP Model Building__ has different process of data cleaning & preprocessing. "
   ]
  },
  {
   "cell_type": "markdown",
   "metadata": {},
   "source": [
    "Data Kotor? ---> Modeling\n",
    "\n",
    "1. Data kosong -> deteksi -> handle-> hapus, diisi, atau dibiarkan\n",
    "2. Data ekstrim/outlier/menyimpang -> hapus, dilog, atau dibiarkan\n",
    "\n",
    "PREPARATION\n",
    "3. Data masih berupa categorical -- string -> angka\n",
    "4. Scalling/standardize -> \n",
    "5. Memilih feature/kolom/variabel yang relevan ---> target yang ingin diprediksi\n",
    "6. Splitting dataset -> data train/data test"
   ]
  }
 ],
 "metadata": {
  "kernelspec": {
   "display_name": "Python 3.8.1 32-bit",
   "language": "python",
   "name": "python38132bitf9f79e71b62e4503b25567c1d3914456"
  },
  "language_info": {
   "codemirror_mode": {
    "name": "ipython",
    "version": 3
   },
   "file_extension": ".py",
   "mimetype": "text/x-python",
   "name": "python",
   "nbconvert_exporter": "python",
   "pygments_lexer": "ipython3",
   "version": "3.8.1"
  }
 },
 "nbformat": 4,
 "nbformat_minor": 4
}
